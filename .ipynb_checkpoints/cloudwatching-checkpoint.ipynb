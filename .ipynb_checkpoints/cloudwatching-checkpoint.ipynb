{
 "cells": [
  {
   "cell_type": "code",
   "execution_count": 2,
   "metadata": {},
   "outputs": [],
   "source": [
    "%matplotlib notebook\n",
    "\n",
    "import pickle\n",
    "import numpy as np\n",
    "import matplotlib.pyplot as plt"
   ]
  },
  {
   "cell_type": "code",
   "execution_count": 3,
   "metadata": {},
   "outputs": [
    {
     "name": "stdout",
     "output_type": "stream",
     "text": [
      "(30873, 2)\n",
      "(30873,)\n"
     ]
    }
   ],
   "source": [
    "with open('flattened.pickle', 'rb') as f:\n",
    "    flattened = pickle.load(f)\n",
    "\n",
    "proj, dist = flattened\n",
    "print(proj.shape)\n",
    "print(dist.shape)"
   ]
  },
  {
   "cell_type": "code",
   "execution_count": 6,
   "metadata": {},
   "outputs": [
    {
     "name": "stdout",
     "output_type": "stream",
     "text": [
      "[0.         1.955424   0.7122585  2.0602782  1.8448966  3.6397104\n",
      " 0.23792136 2.0914855  2.1075466  1.028732  ]\n",
      "[0.0000000e+00 0.0000000e+00 5.0008974e-05 1.3203561e-04 1.9678436e-04\n",
      " 2.0030476e-04 2.1059159e-04 4.5572020e-04 6.4436666e-04 7.4222038e-04]\n",
      "[[ 0.0000000e+00  0.0000000e+00]\n",
      " [-6.5528164e+00 -1.3411045e-07]\n",
      " [-5.3266687e+00 -8.3918419e+00]\n",
      " [-2.2827120e+00 -6.0542312e+00]\n",
      " [-2.9694834e+00  2.9656579e+00]\n",
      " [-3.3439724e+00 -5.9141369e+00]\n",
      " [-2.7516968e+00 -7.2895207e+00]\n",
      " [-7.2207065e+00 -2.4212494e+00]\n",
      " [-3.7011843e+00 -1.9704453e+00]\n",
      " [-4.5194855e+00 -2.5082743e+00]]\n"
     ]
    }
   ],
   "source": [
    "print(dist[:10])\n",
    "sortIdx = np.argsort(dist)\n",
    "sortedDist = dist[sortIdx]\n",
    "sortedProj = proj[sortIdx]"
   ]
  },
  {
   "cell_type": "code",
   "execution_count": null,
   "metadata": {},
   "outputs": [],
   "source": []
  }
 ],
 "metadata": {
  "kernelspec": {
   "display_name": "Python 3",
   "language": "python",
   "name": "python3"
  },
  "language_info": {
   "codemirror_mode": {
    "name": "ipython",
    "version": 3
   },
   "file_extension": ".py",
   "mimetype": "text/x-python",
   "name": "python",
   "nbconvert_exporter": "python",
   "pygments_lexer": "ipython3",
   "version": "3.7.9"
  }
 },
 "nbformat": 4,
 "nbformat_minor": 2
}
