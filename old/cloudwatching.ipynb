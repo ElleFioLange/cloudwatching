{
 "cells": [
  {
   "cell_type": "code",
   "execution_count": 1,
   "metadata": {},
   "outputs": [],
   "source": [
    "%matplotlib notebook\n",
    "\n",
    "import pickle\n",
    "import numpy as np\n",
    "import matplotlib.pyplot as plt\n",
    "from PIL import Image, ImageDraw"
   ]
  },
  {
   "cell_type": "code",
   "execution_count": 2,
   "metadata": {},
   "outputs": [],
   "source": [
    "with open('3dinfo.pickle', 'rb') as f:\n",
    "    dim3 = pickle.load(f)"
   ]
  },
  {
   "cell_type": "code",
   "execution_count": 3,
   "metadata": {},
   "outputs": [
    {
     "name": "stdout",
     "output_type": "stream",
     "text": [
      "(30876, 2)\n",
      "(30876,)\n",
      "(30876, 3)\n"
     ]
    }
   ],
   "source": [
    "with open('flattened.pickle', 'rb') as f:\n",
    "    flattened = pickle.load(f)\n",
    "\n",
    "proj, dist = flattened\n",
    "print(proj.shape)\n",
    "print(dist.shape)\n",
    "print(dim3.shape)"
   ]
  },
  {
   "cell_type": "code",
   "execution_count": 4,
   "metadata": {},
   "outputs": [],
   "source": [
    "sortIdx = np.argsort(dist)\n",
    "sortedDist = np.flip(dist[sortIdx], axis=0)\n",
    "sortedProj = np.flip(proj[sortIdx], axis=0)\n",
    "sortedDim3 = np.flip(dim3[sortIdx], axis=0)\n"
   ]
  },
  {
   "cell_type": "code",
   "execution_count": 9,
   "metadata": {},
   "outputs": [
    {
     "name": "stdout",
     "output_type": "stream",
     "text": [
      "18.811296\n",
      "16.572609\n",
      "2000 1761\n"
     ]
    }
   ],
   "source": [
    "max_x = (max(sortedProj.T[0]))\n",
    "max_y = (max(sortedProj.T[1]))\n",
    "min_x = (min(sortedProj.T[0]))\n",
    "min_y = (min(sortedProj.T[1]))\n",
    "\n",
    "max_r = max(sortedDim3.T[0])\n",
    "max_g = max(sortedDim3.T[1])\n",
    "max_b = max(sortedDim3.T[2])\n",
    "min_r = min(sortedDim3.T[0])\n",
    "min_g = min(sortedDim3.T[1])\n",
    "min_b = min(sortedDim3.T[2])\n",
    "\n",
    "print(max_x - min_x)\n",
    "print(max_y - min_y)\n",
    "\n",
    "range_y = max_y - min_y\n",
    "range_x = max_x - min_x\n",
    "\n",
    "img_asp_rat = range_y / range_x\n",
    "\n",
    "img_w = 2000\n",
    "img_h = int(img_w * img_asp_rat)\n",
    "border_px = 100\n",
    "print(img_w, img_h)\n",
    "max_iw = img_w - border_px\n",
    "max_ih = img_h - border_px"
   ]
  },
  {
   "cell_type": "code",
   "execution_count": 10,
   "metadata": {},
   "outputs": [
    {
     "name": "stdout",
     "output_type": "stream",
     "text": [
      "<class 'numpy.ndarray'>\n",
      "-5.669342 2.2027073 -0.64129794\n"
     ]
    }
   ],
   "source": [
    "print(type(dim3[0]))\n",
    "r, g, b = dim3[0]\n",
    "print(r, g, b)"
   ]
  },
  {
   "cell_type": "code",
   "execution_count": 24,
   "metadata": {},
   "outputs": [],
   "source": [
    "base = Image.new('RGBA', (img_w, img_h), color=(255, 255, 255))"
   ]
  },
  {
   "cell_type": "code",
   "execution_count": 12,
   "metadata": {},
   "outputs": [],
   "source": [
    "anchors = list(zip(proj[-3:], dist[-3:]))"
   ]
  },
  {
   "cell_type": "code",
   "execution_count": 13,
   "metadata": {},
   "outputs": [],
   "source": [
    "def translate(a, min_a, max_a, min_b, max_b):\n",
    "    range_a = max_a - min_a\n",
    "    range_b = max_b - min_b\n",
    "    return min_b + ((a - min_a) * range_b / range_a)"
   ]
  },
  {
   "cell_type": "code",
   "execution_count": 25,
   "metadata": {},
   "outputs": [],
   "source": [
    "draw = ImageDraw.Draw(base)\n",
    "for coords, size, colorData in zip(sortedProj, sortedDist, sortedDim3):\n",
    "    r, g, b = [int(translate(colorData[0], min_r, max_r, 0, 255)),\n",
    "               int(translate(colorData[1], min_g, max_g, 0, 255)),\n",
    "               int(translate(colorData[2], min_b, max_b, 0, 255))]\n",
    "    x, y = coords\n",
    "    x = translate(x, min_x, max_x, border_px, max_iw)\n",
    "    y = translate(y, min_y, max_y, max_ih, border_px)\n",
    "    size += 2\n",
    "    bound = [(x-size, y-size), (x+size, y+size)]\n",
    "    draw.ellipse(bound, fill=(r, g, b))\n"
   ]
  },
  {
   "cell_type": "code",
   "execution_count": 17,
   "metadata": {},
   "outputs": [
    {
     "name": "stdout",
     "output_type": "stream",
     "text": [
      "100.0\n",
      "1900\n"
     ]
    }
   ],
   "source": [
    "print(translate(max_x, min_x, max_x, max_iw, border_px))\n",
    "print(max_iw)"
   ]
  },
  {
   "cell_type": "code",
   "execution_count": 26,
   "metadata": {},
   "outputs": [],
   "source": [
    "for coords in proj[-3:]:\n",
    "    x, y = coords\n",
    "    fill_c = (255, 255, 255)\n",
    "    ol_c = (0, 0, 0)\n",
    "    size = 30\n",
    "    x = translate(x, min_x, max_x, border_px, max_iw)\n",
    "    y = translate(y, min_y, max_y, max_ih, border_px)\n",
    "    bound = [(x-size, y-size), (x+size, y+size)]\n",
    "    draw.ellipse(bound, outline=ol_c, width=6)\n",
    "\n",
    "base.show()"
   ]
  },
  {
   "cell_type": "code",
   "execution_count": 27,
   "metadata": {},
   "outputs": [],
   "source": [
    "base.save('image.png')"
   ]
  },
  {
   "cell_type": "code",
   "execution_count": 199,
   "metadata": {},
   "outputs": [
    {
     "data": {
      "text/plain": [
       "0.0"
      ]
     },
     "execution_count": 199,
     "metadata": {},
     "output_type": "execute_result"
    }
   ],
   "source": [
    "min(sortedDist)"
   ]
  },
  {
   "cell_type": "code",
   "execution_count": null,
   "metadata": {},
   "outputs": [],
   "source": []
  }
 ],
 "metadata": {
  "kernelspec": {
   "display_name": "Python 3",
   "language": "python",
   "name": "python3"
  },
  "language_info": {
   "codemirror_mode": {
    "name": "ipython",
    "version": 3
   },
   "file_extension": ".py",
   "mimetype": "text/x-python",
   "name": "python",
   "nbconvert_exporter": "python",
   "pygments_lexer": "ipython3",
   "version": "3.7.9"
  }
 },
 "nbformat": 4,
 "nbformat_minor": 2
}
